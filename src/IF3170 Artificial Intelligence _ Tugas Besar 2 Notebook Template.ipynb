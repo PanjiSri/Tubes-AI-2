{
 "cells": [
  {
   "cell_type": "markdown",
   "metadata": {
    "id": "uR1JW69eLfG_"
   },
   "source": [
    "# IF3170 Artificial Intelligence | Tugas Besar 2\n",
    "\n",
    "This notebook serves as a template for the assignment. Please create a copy of this notebook to complete your work. You can add more code blocks, markdown blocks, or new sections if needed.\n"
   ]
  },
  {
   "cell_type": "markdown",
   "metadata": {
    "id": "ucbaI5rBLtjJ"
   },
   "source": [
    "Group Number: xx\n",
    "\n",
    "Group Members:\n",
    "- Name (NIM)\n",
    "- Name (NIM)\n",
    "- ..."
   ]
  },
  {
   "cell_type": "markdown",
   "metadata": {
    "id": "GwzsfETHLfHA"
   },
   "source": [
    "## Import Libraries"
   ]
  },
  {
   "cell_type": "code",
   "execution_count": null,
   "metadata": {},
   "outputs": [],
   "source": [
    "# Download Library\n",
    "%pip install pandas\n",
    "%pip install openpyxl\n",
    "%pip install scikit-learn\n",
    "%pip install joblib\n",
    "%pip install seaborn\n",
    "%pip install imbalanced-learn"
   ]
  },
  {
   "cell_type": "code",
   "execution_count": 66,
   "metadata": {
    "id": "jZJU5W_4LfHB"
   },
   "outputs": [],
   "source": [
    "import pandas as pd \n",
    "import numpy as np\n",
    "from sklearn.model_selection import train_test_split\n",
    "from sklearn.base import BaseEstimator, TransformerMixin\n",
    "from sklearn.preprocessing import LabelEncoder, OneHotEncoder\n",
    "from sklearn.utils import resample\n",
    "from joblib import Parallel, delayed\n",
    "from sklearn.impute import SimpleImputer\n",
    "import seaborn as sns\n",
    "import matplotlib.pyplot as plt\n",
    "from sklearn.compose import ColumnTransformer\n",
    "from sklearn.preprocessing import StandardScaler, MinMaxScaler, RobustScaler\n",
    "from imblearn.under_sampling import RandomUnderSampler\n",
    "from imblearn.pipeline import Pipeline\n",
    "from collections import Counter\n",
    "from sklearn.base import BaseEstimator, TransformerMixin\n",
    "from sklearn.decomposition import PCA\n",
    "from sklearn.metrics import f1_score\n",
    "from sklearn.neighbors import KNeighborsClassifier\n",
    "from sklearn.model_selection import train_test_split"
   ]
  },
  {
   "cell_type": "markdown",
   "metadata": {
    "id": "OKbjLIdYLfHC"
   },
   "source": [
    "## Import Dataset"
   ]
  },
  {
   "cell_type": "code",
   "execution_count": null,
   "metadata": {
    "id": "-IWFJ-gdLfHD"
   },
   "outputs": [],
   "source": [
    "# Example of reading a csv file from a gdrive link\n",
    "\n",
    "# Take the file id from the gdrive file url\n",
    "# https://drive.google.com/file/d/1ZUtiaty9RPXhpz5F2Sy3dFPHF4YIt5iU/view?usp=sharing => The file id is 1ZUtiaty9RPXhpz5F2Sy3dFPHF4YIt5iU\n",
    "# and then put it in this format:\n",
    "# https://drive.google.com/uc?id={file_id}\n",
    "# Don't forget to change the access to public\n",
    "\n",
    "df = pd.read_csv('https://drive.google.com/uc?id=1ZUtiaty9RPXhpz5F2Sy3dFPHF4YIt5iU')\n",
    "df.head()"
   ]
  },
  {
   "cell_type": "markdown",
   "metadata": {},
   "source": [
    "Train Dataset"
   ]
  },
  {
   "cell_type": "code",
   "execution_count": 4,
   "metadata": {},
   "outputs": [],
   "source": [
    "#https://drive.google.com/file/d/1qTk4wuXE8NjOsqoEERFre9d9UwWtfOlf/view?usp=sharing\n",
    "#https://drive.google.com/file/d/1lQnlxexMO5po0TFcOk5dp-tnkR_tswr9/view?usp=sharing\n",
    "#https://drive.google.com/file/d/1S9niayLbd1AGFqSr7IK7oroKyQalFN63/view?usp=sharing\n",
    "#https://drive.google.com/file/d/1W2EossQ9NWgzySeUFRqetvhOAKgpusnk/view?usp=sharing\n",
    "#https://drive.google.com/file/d/18IzeH8Xn4MIRS9MKXJkTdEvif1GRStuw/view?usp=sharing\n",
    "#https://drive.google.com/file/d/1-qmbqLwPzv3v2gdY4cdumGKV6J7q7P2w/view?usp=sharing\n",
    "\n",
    "# time_features_train = pd.read_csv('https://drive.google.com/uc?id=1qTk4wuXE8NjOsqoEERFre9d9UwWtfOlf')\n",
    "# labels_train = pd.read_csv('https://drive.google.com/uc?id=1lQnlxexMO5po0TFcOk5dp-tnkR_tswr9')\n",
    "# flow_features_train = pd.read_csv('https://drive.google.com/uc?id=1S9niayLbd1AGFqSr7IK7oroKyQalFN63')\n",
    "# content_features_train = pd.read_csv('https://drive.google.com/uc?id=1W2EossQ9NWgzySeUFRqetvhOAKgpusnk')\n",
    "# basic_features_train = pd.read_csv('https://drive.google.com/uc?id=18IzeH8Xn4MIRS9MKXJkTdEvif1GRStuw')\n",
    "# additional_features_train = pd.read_csv('https://drive.google.com/uc?id=1-qmbqLwPzv3v2gdY4cdumGKV6J7q7P2w')               \n",
    "\n",
    "time_features_train = pd.read_csv(\"train/time_features_train.csv\")  \n",
    "labels_train = pd.read_csv('train/labels_train.csv')\n",
    "flow_features_train = pd.read_csv('train/flow_features_train.csv')\n",
    "content_features_train = pd.read_csv('train/content_features_train.csv')\n",
    "basic_features_train = pd.read_csv('train/basic_features_train.csv')\n",
    "additional_features_train = pd.read_csv('train/additional_features_train.csv')\n"
   ]
  },
  {
   "cell_type": "code",
   "execution_count": null,
   "metadata": {},
   "outputs": [],
   "source": [
    "print(time_features_train.head())\n",
    "print(labels_train.head())\n",
    "print(flow_features_train.head())\n",
    "print(content_features_train.head())\n",
    "print(basic_features_train.head())\n",
    "print(additional_features_train.head())"
   ]
  },
  {
   "cell_type": "markdown",
   "metadata": {},
   "source": [
    "Test Dataset"
   ]
  },
  {
   "cell_type": "code",
   "execution_count": 6,
   "metadata": {},
   "outputs": [],
   "source": [
    "#https://drive.google.com/file/d/1Atr6sA2Tzc0D9L_bQM2_6KLYh332Iv0y/view?usp=sharing\n",
    "#https://drive.google.com/file/d/1ePaWIPvDWCpEzrTChPy15t_F4BgotXmD/view?usp=sharing\n",
    "#https://drive.google.com/file/d/1-EA1sY0DBnHcnQ0LOSZ_eVR6C0GC2eEd/view?usp=sharing\n",
    "#https://drive.google.com/file/d/1Dc14IM0m16HRDXjy8aQ9JCAIfQhkPPvi/view?usp=sharing\n",
    "#https://drive.google.com/file/d/1Y8hyL-xSee0KFwuXo9RORo430DTQ4bV7/view?usp=sharing\n",
    "\n",
    "\n",
    "# time_features_test = pd.read_csv('https://drive.google.com/uc?id=1Atr6sA2Tzc0D9L_bQM2_6KLYh332Iv0y')\n",
    "# flow_features_test = pd.read_csv('https://drive.google.com/uc?id=1ePaWIPvDWCpEzrTChPy15t_F4BgotXmD')\n",
    "# content_features_test = pd.read_csv('https://drive.google.com/uc?id=1-EA1sY0DBnHcnQ0LOSZ_eVR6C0GC2eEd')\n",
    "# basic_features_test = pd.read_csv('https://drive.google.com/uc?id=1Dc14IM0m16HRDXjy8aQ9JCAIfQhkPPvi')\n",
    "# aditional_features_test = pd.read_csv('https://drive.google.com/uc?id=1Y8hyL-xSee0KFwuXo9RORo430DTQ4bV7')\n",
    "\n",
    "time_features_test = pd.read_csv(\"test/time_features_test.csv\")\n",
    "flow_features_test = pd.read_csv('test/flow_features_test.csv')\n",
    "content_features_test = pd.read_csv('test/content_features_test.csv')\n",
    "basic_features_test = pd.read_csv('test/basic_features_test.csv')\n",
    "aditional_features_test = pd.read_csv('test/additional_features_test.csv')"
   ]
  },
  {
   "cell_type": "code",
   "execution_count": null,
   "metadata": {},
   "outputs": [],
   "source": [
    "print(time_features_test.head())\n",
    "print(flow_features_test.head())\n",
    "print(content_features_test.head())\n",
    "print(basic_features_test.head())\n",
    "print(aditional_features_test.head())"
   ]
  },
  {
   "cell_type": "code",
   "execution_count": 8,
   "metadata": {},
   "outputs": [],
   "source": [
    "merged_train_df = pd.merge(time_features_train, labels_train, on='id', how='outer')\n",
    "merged_train_df = pd.merge(merged_train_df, flow_features_train, on='id', how='outer')\n",
    "merged_train_df = pd.merge(merged_train_df, content_features_train, on='id', how='outer')\n",
    "merged_train_df = pd.merge(merged_train_df, basic_features_train, on='id', how='outer')\n",
    "merged_train_df = pd.merge(merged_train_df, additional_features_train, on='id', how='outer')\n",
    "\n",
    "# merged_train_df.to_csv('merged_train_dataset.csv', index=False)\n",
    "# merged_train_df.to_excel('merged_train_dataset.xlsx', index=False)"
   ]
  },
  {
   "cell_type": "code",
   "execution_count": 9,
   "metadata": {},
   "outputs": [],
   "source": [
    "merged_test_df = pd.merge(flow_features_test, time_features_test, on='id', how='outer')\n",
    "merged_test_df = pd.merge(merged_test_df, content_features_test, on='id', how='outer')\n",
    "merged_test_df = pd.merge(merged_test_df, basic_features_test, on='id', how='outer')\n",
    "merged_test_df = pd.merge(merged_test_df, aditional_features_test, on='id', how='outer')\n",
    "\n",
    "# merged_test_df.to_csv('merged_test_dataset.csv', index=False)\n",
    "# merged_test_df.to_excel('merged_test_dataset.xlsx', index=False)"
   ]
  },
  {
   "cell_type": "markdown",
   "metadata": {
    "id": "YdSor5sdIYGs"
   },
   "source": [
    "# Exploratory Data Analysis (Optional)\n",
    "\n",
    "Exploratory Data Analysis (EDA) is a crucial step in the data analysis process that involves examining and visualizing data sets to uncover patterns, trends, anomalies, and insights. It is the first step before applying more advanced statistical and machine learning techniques. EDA helps you to gain a deep understanding of the data you are working with, allowing you to make informed decisions and formulate hypotheses for further analysis."
   ]
  },
  {
   "cell_type": "code",
   "execution_count": 10,
   "metadata": {},
   "outputs": [],
   "source": [
    "def explore_data(data, dataset_name):\n",
    "    print(f\"Eksplorasi dataset {dataset_name}\")\n",
    "    print(\"=\"*50)\n",
    "    \n",
    "    print(f\"Shape dataset: {data.shape}\\n\")\n",
    "    \n",
    "    print(\"Tipe-tipe feature\")\n",
    "    print(data.dtypes.value_counts(), \"\\n\")\n",
    "    \n",
    "    print(\"Missing Values (Jumlah & Persentase):\")\n",
    "    missing_values = data.isnull().sum()\n",
    "    missing_percentage = (missing_values / len(data)) * 100\n",
    "    missing_summary = pd.DataFrame({\n",
    "        \"Missing Values\": missing_values,\n",
    "        \"Persentase\": missing_percentage\n",
    "    })\n",
    "\n",
    "    print(missing_summary[missing_summary[\"Missing Values\"] > 0].sort_values(by=\"Persentase\", ascending=False), \"\\n\")\n",
    "    \n",
    "    print(\"Informasi Statistik:\")\n",
    "    print(data.describe().T, \"\\n\")\n",
    "    \n",
    "    print(\"Nilai feature kategorikal: \")\n",
    "    categorical_cols = data.select_dtypes(include=['object']).columns\n",
    "    for col in categorical_cols:\n",
    "        print(f\"{col}:\")\n",
    "        print(data[col].value_counts(), \"\\n\")\n",
    "    \n",
    "    if \"attack_cat\" in data.columns:\n",
    "        print(\"Distribusi variabel target: \")\n",
    "        print(data[\"attack_cat\"].value_counts(), \"\\n\")"
   ]
  },
  {
   "cell_type": "code",
   "execution_count": null,
   "metadata": {},
   "outputs": [],
   "source": [
    "explore_data(merged_train_df, \"Train\")\n",
    "explore_data(merged_test_df, \"Test\")"
   ]
  },
  {
   "cell_type": "code",
   "execution_count": null,
   "metadata": {
    "id": "bGiGPVYNIoWk"
   },
   "outputs": [],
   "source": [
    "for column in merged_train_df.columns:\n",
    "    print(f\"{column}, Tipe Data: {merged_train_df[column].dtype}\")"
   ]
  },
  {
   "cell_type": "code",
   "execution_count": null,
   "metadata": {},
   "outputs": [],
   "source": [
    "for column in merged_train_df.columns:\n",
    "    if merged_train_df[column].dtype == 'object': \n",
    "        unique_values = merged_train_df[column].unique()\n",
    "        print(f\"Kolom : {column}, Unique Values: {unique_values}\")\n",
    "        print(f\"Jumlah Unique Values: {len(unique_values)}\")"
   ]
  },
  {
   "cell_type": "code",
   "execution_count": 14,
   "metadata": {},
   "outputs": [],
   "source": [
    "for column in merged_train_df.columns:\n",
    "    if len(merged_train_df[column].unique()) == 1:\n",
    "        print(f\"Kolom : {column}, Unique Values: {merged_train_df[column].unique()}\")"
   ]
  },
  {
   "cell_type": "code",
   "execution_count": null,
   "metadata": {},
   "outputs": [],
   "source": [
    "def analyze_distribution(data, features):\n",
    "    for feature in features:\n",
    "        if data[feature].isnull().sum() > 0:  \n",
    "            print(f\"Feature: {feature}\")\n",
    "            print(data[feature].describe())\n",
    "            skewness = data[feature].skew()\n",
    "            print(f\"Skewness: {skewness}\")\n",
    "            if skewness < -1 or skewness > 1:\n",
    "                print(\"Skewed. Imputasi pake median\")\n",
    "            elif -1 <= skewness <= 1:\n",
    "                print(\"Lumayan Simetris. Imputasi pake nilai mean\")\n",
    "            print(\"-\" * 50)\n",
    "\n",
    "print(\"Distribusi Fitur Numerik:\")\n",
    "analyze_distribution(merged_train_df, merged_train_df.select_dtypes(include=['float64', 'int64']).columns)\n",
    "\n",
    "print(\"Distribusi Fitur Kategorikal\")\n",
    "for feature in merged_train_df.select_dtypes(include=['object']).columns:\n",
    "    if merged_train_df[feature].isnull().sum() > 0:\n",
    "        print(f\"Feature: {feature}\")\n",
    "        print(merged_train_df[feature].value_counts())\n",
    "        print(f\"Mode: {merged_train_df[feature].mode()[0]}\")\n",
    "        print(\"-\" * 50)"
   ]
  },
  {
   "cell_type": "code",
   "execution_count": null,
   "metadata": {},
   "outputs": [],
   "source": [
    "def detect_outliers(df, features):\n",
    "    outlier_summary = {}\n",
    "    for feature in features:\n",
    "        Q1 = df[feature].quantile(0.25)\n",
    "        Q3 = df[feature].quantile(0.75)\n",
    "        IQR = Q3 - Q1\n",
    "        lower_bound = Q1 - 1.5 * IQR\n",
    "        upper_bound = Q3 + 1.5 * IQR\n",
    "        \n",
    "        outliers = df[(df[feature] < lower_bound) | (df[feature] > upper_bound)]\n",
    "        outlier_percentage = len(outliers) / len(df) * 100\n",
    "        \n",
    "        outlier_summary[feature] = {\n",
    "            'Total outlier': len(outliers),\n",
    "            'Persentase outlier': outlier_percentage,\n",
    "            'batas bawah': lower_bound,\n",
    "            'batas atas': upper_bound\n",
    "        }\n",
    "    \n",
    "    return pd.DataFrame.from_dict(outlier_summary, orient='index')\n",
    "\n",
    "columns_to_check = [col for col in merged_train_df.select_dtypes(include=['float64', 'int64']).columns if col != 'id']\n",
    "outliers = detect_outliers(merged_train_df, columns_to_check)\n",
    "\n",
    "outliers"
   ]
  },
  {
   "cell_type": "code",
   "execution_count": null,
   "metadata": {},
   "outputs": [],
   "source": [
    "print(merged_train_df.columns)"
   ]
  },
  {
   "cell_type": "code",
   "execution_count": null,
   "metadata": {},
   "outputs": [],
   "source": [
    "def compare_outlier_methods(df, feature):\n",
    "    original_skewness = df[feature].skew()\n",
    "    \n",
    "    # 1. Imputation (Median)\n",
    "    imputed_median = df[feature].fillna(df[feature].median())\n",
    "    imputed_median_skewness = imputed_median.skew()\n",
    "    \n",
    "    # 2. Clipping\n",
    "    Q1 = df[feature].quantile(0.25)\n",
    "    Q3 = df[feature].quantile(0.75)\n",
    "    IQR = Q3 - Q1\n",
    "    lower_bound = Q1 - 1.5 * IQR\n",
    "    upper_bound = Q3 + 1.5 * IQR\n",
    "    \n",
    "    clipped = df[feature].clip(lower=lower_bound, upper=upper_bound)\n",
    "    clipped_skewness = clipped.skew()\n",
    "    \n",
    "    # 3. Log Transformation\n",
    "    log_transformed = np.log1p(df[feature])\n",
    "    log_skewness = log_transformed.skew()\n",
    "    \n",
    "    # 4. Square Root Transformation\n",
    "    sqrt_transformed = np.sqrt(df[feature])\n",
    "    sqrt_skewness = sqrt_transformed.skew()\n",
    "    \n",
    "    return {\n",
    "        'original_skewness': original_skewness,\n",
    "        'imputed_median_skewness': imputed_median_skewness,\n",
    "        'clipped_skewness': clipped_skewness,\n",
    "        'log_skewness': log_skewness,\n",
    "        'sqrt_skewness': sqrt_skewness\n",
    "    }\n",
    "\n",
    "results = {}\n",
    "\n",
    "merged_train_df_check = merged_train_df.copy()\n",
    "\n",
    "for feature in columns_to_check:\n",
    "    results[feature] = compare_outlier_methods(merged_train_df_check, feature)\n",
    "\n",
    "pd.DataFrame.from_dict(results, orient='index')\n"
   ]
  },
  {
   "cell_type": "code",
   "execution_count": null,
   "metadata": {},
   "outputs": [],
   "source": [
    "def find_best_outlier_method(results):\n",
    "    best_methods = {}\n",
    "    \n",
    "    for feature, skewness_values in results.items():\n",
    "        best_method = min(skewness_values, key=lambda method: abs(skewness_values[method]))\n",
    "        best_methods[feature] = best_method\n",
    "    \n",
    "    return best_methods\n",
    "\n",
    "best_methods = find_best_outlier_method(results)\n",
    "\n",
    "for feature, method in best_methods.items():\n",
    "    print(f\"Fitur '{feature}' -> teknik : {method}\")"
   ]
  },
  {
   "cell_type": "code",
   "execution_count": null,
   "metadata": {},
   "outputs": [],
   "source": [
    "numerical_data = merged_train_df.select_dtypes(include=['float64', 'int64'])\n",
    "\n",
    "correlation_matrix = numerical_data.corr()\n",
    "\n",
    "plt.figure(figsize=(25, 25))\n",
    "\n",
    "sns.heatmap(correlation_matrix, annot=True, fmt=\".2f\", cmap='coolwarm', cbar=True, square=True)\n",
    "\n",
    "plt.title(\"Correlation Matrix\", fontsize=16)\n",
    "plt.show()\n"
   ]
  },
  {
   "cell_type": "code",
   "execution_count": null,
   "metadata": {},
   "outputs": [],
   "source": [
    "threshold = 0.7  \n",
    "high_corr_var = set()\n",
    "\n",
    "for i in range(correlation_matrix.shape[0]):\n",
    "    for j in range(i):\n",
    "        if abs(correlation_matrix.iloc[i, j]) > threshold:  \n",
    "            colname = correlation_matrix.columns[i]\n",
    "            high_corr_var.add(colname)\n",
    "\n",
    "print(\"Features yang harus didrop:\")\n",
    "print(high_corr_var)"
   ]
  },
  {
   "cell_type": "markdown",
   "metadata": {
    "id": "gvx-gT3bLfHM"
   },
   "source": [
    "# 1. Split Training Set and Validation Set\n",
    "\n",
    "Splitting the training and validation set works as an early diagnostic towards the performance of the model we train. This is done before the preprocessing steps to **avoid data leakage inbetween the sets**. If you want to use k-fold cross-validation, split the data later and do the cleaning and preprocessing separately for each split.\n",
    "\n",
    "Note: For training, you should use the data contained in the `train` folder given by the TA. The `test` data is only used for kaggle submission."
   ]
  },
  {
   "cell_type": "code",
   "execution_count": null,
   "metadata": {
    "id": "4yWCUFFBLfHM"
   },
   "outputs": [],
   "source": [
    "id_test = merged_test_df['id']\n",
    "X_test = merged_test_df.drop(columns=['id'], errors='ignore')\n",
    "\n",
    "X = merged_train_df.drop(columns=['id','label', 'attack_cat'], errors='ignore')\n",
    "y = merged_train_df['attack_cat']\n",
    "\n",
    "X_train, X_val, y_train, y_val = train_test_split(X, y, test_size=0.2, random_state=42, stratify=y)\n",
    "\n",
    "train_val_test_info = {\n",
    "    \"X_train_shape\": X_train.shape,\n",
    "    \"y_train_shape\": y_train.shape,\n",
    "    \"X_test_shape\" : X_test.shape,\n",
    "    \"X_val_shape\": X_val.shape,\n",
    "    \"y_val_shape\": y_val.shape\n",
    "}\n",
    "\n",
    "train_val_test_info"
   ]
  },
  {
   "cell_type": "markdown",
   "metadata": {
    "id": "IC14lmo_LfHN"
   },
   "source": [
    "# 2. Data Cleaning and Preprocessing\n",
    "\n",
    "This step is the first thing to be done once a Data Scientist have grasped a general knowledge of the data. Raw data is **seldom ready for training**, therefore steps need to be taken to clean and format the data for the Machine Learning model to interpret.\n",
    "\n",
    "By performing data cleaning and preprocessing, you ensure that your dataset is ready for model training, leading to more accurate and reliable machine learning results. These steps are essential for transforming raw data into a format that machine learning algorithms can effectively learn from and make predictions.\n",
    "\n",
    "We will give some common methods for you to try, but you only have to **at least implement one method for each process**. For each step that you will do, **please explain the reason why did you do that process. Write it in a markdown cell under the code cell you wrote.**"
   ]
  },
  {
   "cell_type": "markdown",
   "metadata": {
    "id": "p95_A8hSLfHY"
   },
   "source": [
    "## A. Data Cleaning\n",
    "\n",
    "**Data cleaning** is the crucial first step in preparing your dataset for machine learning. Raw data collected from various sources is often messy and may contain errors, missing values, and inconsistencies. Data cleaning involves the following steps:\n",
    "\n",
    "1. **Handling Missing Data:** Identify and address missing values in the dataset. This can include imputing missing values, removing rows or columns with excessive missing data, or using more advanced techniques like interpolation.\n",
    "\n",
    "2. **Dealing with Outliers:** Identify and handle outliers, which are data points significantly different from the rest of the dataset. Outliers can be removed or transformed to improve model performance.\n",
    "\n",
    "3. **Data Validation:** Check for data integrity and consistency. Ensure that data types are correct, categorical variables have consistent labels, and numerical values fall within expected ranges.\n",
    "\n",
    "4. **Removing Duplicates:** Identify and remove duplicate rows, as they can skew the model's training process and evaluation metrics.\n",
    "\n",
    "5. **Feature Engineering**: Create new features or modify existing ones to extract relevant information. This step can involve scaling, normalizing, or encoding features for better model interpretability."
   ]
  },
  {
   "cell_type": "markdown",
   "metadata": {
    "id": "_wruGao9LfHZ"
   },
   "source": [
    "### I. Handling Missing Data\n",
    "\n",
    "Missing data can adversely affect the performance and accuracy of machine learning models. There are several strategies to handle missing data in machine learning:\n",
    "\n",
    "1. **Data Imputation:**\n",
    "\n",
    "    a. **Mean, Median, or Mode Imputation:** For numerical features, you can replace missing values with the mean, median, or mode of the non-missing values in the same feature. This method is simple and often effective when data is missing at random.\n",
    "\n",
    "    b. **Constant Value Imputation:** You can replace missing values with a predefined constant value (e.g., 0) if it makes sense for your dataset and problem.\n",
    "\n",
    "    c. **Imputation Using Predictive Models:** More advanced techniques involve using predictive models to estimate missing values. For example, you can train a regression model to predict missing numerical values or a classification model to predict missing categorical values.\n",
    "\n",
    "2. **Deletion of Missing Data:**\n",
    "\n",
    "    a. **Listwise Deletion:** In cases where the amount of missing data is relatively small, you can simply remove rows with missing values from your dataset. However, this approach can lead to a loss of valuable information.\n",
    "\n",
    "    b. **Column (Feature) Deletion:** If a feature has a large number of missing values and is not critical for your analysis, you can consider removing that feature altogether.\n",
    "\n",
    "3. **Domain-Specific Strategies:**\n",
    "\n",
    "    a. **Domain Knowledge:** In some cases, domain knowledge can guide the imputation process. For example, if you know that missing values are related to a specific condition, you can impute them accordingly.\n",
    "\n",
    "4. **Imputation Libraries:**\n",
    "\n",
    "    a. **Scikit-Learn:** Scikit-Learn provides a `SimpleImputer` class that can handle basic imputation strategies like mean, median, and mode imputation.\n",
    "\n",
    "    b. **Fancyimpute:** Fancyimpute is a Python library that offers more advanced imputation techniques, including matrix factorization, k-nearest neighbors, and deep learning-based methods.\n",
    "\n",
    "The choice of imputation method should be guided by the nature of your data, the amount of missing data, the problem you are trying to solve, and the assumptions you are willing to make."
   ]
  },
  {
   "cell_type": "code",
   "execution_count": null,
   "metadata": {
    "id": "ucZNfCkiLfHZ"
   },
   "outputs": [],
   "source": [
    "def handle_missing_values(merged_train_df):\n",
    "    df = merged_train_df.copy()\n",
    "    \n",
    "    highly_skewed_numeric = [\n",
    "        'sjit', 'djit', 'sinpkt', 'dinpkt', 'tcprtt', 'synack', 'ackdat', \n",
    "        'stcpb', 'dtcpb', 'smean', 'dmean', 'trans_depth', 'response_body_len', \n",
    "        'dur', 'sbytes', 'dbytes', 'sloss', 'dloss', 'sload', 'dload', \n",
    "        'spkts', 'dpkts', 'is_sm_ips_ports', 'ct_flw_http_mthd', \n",
    "        'is_ftp_login', 'ct_ftp_cmd', 'ct_srv_src', 'ct_srv_dst', \n",
    "        'ct_dst_ltm', 'ct_src_ltm', 'ct_src_dport_ltm', 'ct_dst_sport_ltm', \n",
    "        'ct_dst_src_ltm'\n",
    "    ]\n",
    "    \n",
    "    symmetric_numeric = [\n",
    "        'swin', 'dwin', 'sttl', 'dttl', 'ct_state_ttl'\n",
    "    ]\n",
    "    \n",
    "    categorical_columns = [\n",
    "        'proto', 'state', 'service'\n",
    "    ]\n",
    "    \n",
    "    median_imputer = SimpleImputer(strategy='median')\n",
    "    df[highly_skewed_numeric] = median_imputer.fit_transform(df[highly_skewed_numeric])\n",
    "\n",
    "    mean_imputer = SimpleImputer(strategy='mean')\n",
    "    df[symmetric_numeric] = mean_imputer.fit_transform(df[symmetric_numeric])\n",
    "    \n",
    "    mode_imputer = SimpleImputer(strategy='most_frequent')\n",
    "    df[categorical_columns] = mode_imputer.fit_transform(df[categorical_columns])\n",
    "    \n",
    "    return df\n",
    "\n",
    "X_train_transformed = handle_missing_values(X_train)\n",
    "X_val_transformed = handle_missing_values(X_val)\n",
    "X_test_transformed = handle_missing_values(X_test)\n",
    "\n",
    "print(\"Cek missing values:\")\n",
    "print(X_train_transformed.isnull().sum())\n",
    "print(X_val_transformed.isnull().sum())\n",
    "print(X_train_transformed.shape)"
   ]
  },
  {
   "cell_type": "code",
   "execution_count": 24,
   "metadata": {},
   "outputs": [],
   "source": [
    "# def is_unique_len_one(data):\n",
    "#     for column in data.columns:\n",
    "#         if len(data[column].unique()) == 1:\n",
    "#             print(f\"Kolom : {column}, Unique Values: {data[column].unique()}\")\n",
    "\n",
    "# is_unique_len_one(X_train_transformed)\n",
    "# is_unique_len_one(X_val_transformed)"
   ]
  },
  {
   "cell_type": "code",
   "execution_count": 25,
   "metadata": {},
   "outputs": [],
   "source": [
    "# for col in X_train_transformed.columns:\n",
    "#     if col in ['proto', 'state', 'service']:\n",
    "#         print(f\"Kolom : {col}, Unique Values: {X_train_transformed[col].unique()}\")"
   ]
  },
  {
   "cell_type": "markdown",
   "metadata": {
    "id": "zgrSMcK75VY_"
   },
   "source": [
    "### II. Dealing with Outliers\n",
    "\n",
    "Outliers are data points that significantly differ from the majority of the data. They can be unusually high or low values that do not fit the pattern of the rest of the dataset. Outliers can significantly impact model performance, so it is important to handle them properly.\n",
    "\n",
    "Some methods to handle outliers:\n",
    "1. **Imputation**: Replace with mean, median, or a boundary value.\n",
    "2. **Clipping**: Cap values to upper and lower limits.\n",
    "3. **Transformation**: Use log, square root, or power transformations to reduce their influence.\n",
    "4. **Model-Based**: Use algorithms robust to outliers (e.g., tree-based models, Huber regression)."
   ]
  },
  {
   "cell_type": "code",
   "execution_count": null,
   "metadata": {
    "id": "CgbZ6Lv17Uf0"
   },
   "outputs": [],
   "source": [
    "def process_and_transform_feature(X, feature, original_df):\n",
    "    original_skewness = X[feature].skew()\n",
    "    \n",
    "    # 1. Imputation (Median)\n",
    "    imputed_median = X[feature].fillna(original_df[feature].median())\n",
    "    imputed_median_skewness = imputed_median.skew()\n",
    "    \n",
    "    # 2. Clipping\n",
    "    Q1 = original_df[feature].quantile(0.25)\n",
    "    Q3 = original_df[feature].quantile(0.75)\n",
    "    IQR = Q3 - Q1\n",
    "    lower_bound = Q1 - 1.5 * IQR\n",
    "    upper_bound = Q3 + 1.5 * IQR\n",
    "    clipped = X[feature].clip(lower=lower_bound, upper=upper_bound)\n",
    "    clipped_skewness = clipped.skew()\n",
    "    \n",
    "    # 3. Log Transformation\n",
    "    log_transformed = np.log1p(X[feature])\n",
    "    log_skewness = log_transformed.skew()\n",
    "    \n",
    "    # 4. Square Root Transformation\n",
    "    sqrt_transformed = np.sqrt(X[feature])\n",
    "    sqrt_skewness = sqrt_transformed.skew()\n",
    "    \n",
    "    methods = {\n",
    "        'original_skewness': original_skewness,\n",
    "        'imputed_median_skewness': imputed_median_skewness,\n",
    "        'clipped_skewness': clipped_skewness,\n",
    "        'log_skewness': log_skewness,\n",
    "        'sqrt_skewness': sqrt_skewness\n",
    "    }\n",
    "\n",
    "    best_method = min(methods, key=lambda k: abs(methods[k]))\n",
    "\n",
    "    if best_method == 'original_skewness':\n",
    "        transformed_feature = X[feature]\n",
    "    elif best_method == 'imputed_median_skewness':\n",
    "        transformed_feature = imputed_median\n",
    "    elif best_method == 'clipped_skewness':\n",
    "        transformed_feature = clipped\n",
    "    elif best_method == 'log_skewness':\n",
    "        transformed_feature = log_transformed\n",
    "    elif best_method == 'sqrt_skewness':\n",
    "        transformed_feature = sqrt_transformed\n",
    "    \n",
    "    return transformed_feature, best_method\n",
    "\n",
    "def transform_dataframe(X, features, original_df):\n",
    "    transformed_X = X.copy()\n",
    "    best_methods = {}\n",
    "    \n",
    "    for feature in features:\n",
    "        if feature in X.columns:\n",
    "            transformed_feature, best_method = process_and_transform_feature(X, feature, original_df)\n",
    "            transformed_X[feature] = transformed_feature\n",
    "            best_methods[feature] = best_method\n",
    "    \n",
    "    return transformed_X, best_methods\n",
    "\n",
    "columns_to_check = [col for col in X_train.select_dtypes(include=['float64', 'int64']).columns if col != 'id']\n",
    "\n",
    "X_train_transformed, train_best_methods = transform_dataframe(X_train_transformed, columns_to_check, X_train)\n",
    "X_val_transformed, val_best_methods = transform_dataframe(X_val_transformed, columns_to_check, X_val)\n",
    "X_test_transformed, test_best_methods = transform_dataframe(X_test_transformed, columns_to_check, merged_test_df)\n",
    "print(X_train_transformed.shape)\n",
    "print(X_val_transformed.shape)\n",
    "print(X_test_transformed.shape)"
   ]
  },
  {
   "cell_type": "code",
   "execution_count": 27,
   "metadata": {},
   "outputs": [],
   "source": [
    "# for col in X_train_transformed.columns:\n",
    "#     if col in ['proto', 'state', 'service']:\n",
    "#         print(f\"Kolom : {col}, Unique Values: {X_train_transformed[col].unique()}\")"
   ]
  },
  {
   "cell_type": "code",
   "execution_count": 28,
   "metadata": {},
   "outputs": [],
   "source": [
    "# def check_skewness_after_transformation(df, columns_to_check):\n",
    "#     skewness_results = {}\n",
    "#     for feature in columns_to_check:\n",
    "#         skewness_results[feature] = df[feature].skew()\n",
    "#         print(f\"Feature: {feature} :  {skewness_results[feature]:.6f}\")\n",
    "#     return skewness_results\n",
    "\n",
    "# print(check_skewness_after_transformation(X_train_transformed, columns_to_check))\n",
    "# print(check_skewness_after_transformation(X_val_transformed, columns_to_check))\n",
    "# print(check_skewness_after_transformation(X_test_transformed, columns_to_check))"
   ]
  },
  {
   "cell_type": "markdown",
   "metadata": {
    "id": "aO0ZEZ-s6Lu-"
   },
   "source": [
    "### III. Remove Duplicates\n",
    "Handling duplicate values is crucial because they can compromise data integrity, leading to inaccurate analysis and insights. Duplicate entries can bias machine learning models, causing overfitting and reducing their ability to generalize to new data. They also inflate the dataset size unnecessarily, increasing computational costs and processing times. Additionally, duplicates can distort statistical measures and lead to inconsistencies, ultimately affecting the reliability of data-driven decisions and reporting. Ensuring data quality by removing duplicates is essential for accurate, efficient, and consistent analysis."
   ]
  },
  {
   "cell_type": "code",
   "execution_count": null,
   "metadata": {
    "id": "BHCkkZ-v7iF8"
   },
   "outputs": [],
   "source": [
    "print(\"Duplikat X_train_transformed:\", X_train_transformed.duplicated().sum())\n",
    "print(\"Duplikat X_val_transformed:\", X_val_transformed.duplicated().sum())\n",
    "\n",
    "def remove_duplicates_with_ids(X, y):\n",
    "    \n",
    "    duplicated_indices = X.index[X.duplicated(keep='first')].tolist()  \n",
    "    \n",
    "    X_clean = X.drop(index=duplicated_indices)\n",
    "    y_clean = y.drop(index=duplicated_indices)\n",
    "\n",
    "    return X_clean, y_clean, duplicated_indices\n",
    "\n",
    "X_train_transformed, y_train_transformed, removed_ids_train = remove_duplicates_with_ids(X_train_transformed, y_train)\n",
    "X_val_transformed, y_val_transformed, removed_ids_val = remove_duplicates_with_ids(X_val_transformed, y_val)\n",
    "\n",
    "print(\"Duplikat X_train_transformed:\", X_train_transformed.duplicated().sum())\n",
    "print(\"Duplikat X_val_transformed:\", X_val_transformed.duplicated().sum())"
   ]
  },
  {
   "cell_type": "code",
   "execution_count": 30,
   "metadata": {},
   "outputs": [],
   "source": [
    "# print(X_train_transformed.shape)\n",
    "# print(X_val_transformed.shape)\n",
    "# print(X_test_transformed.shape)\n",
    "# print(y_train_transformed.shape)"
   ]
  },
  {
   "cell_type": "code",
   "execution_count": 31,
   "metadata": {},
   "outputs": [],
   "source": [
    "# for col in X_train_transformed.columns:\n",
    "#     if col in ['proto', 'state', 'service']:\n",
    "#         print(f\"Kolom : {col}, Unique Values: {X_train_transformed[col].unique()}\")"
   ]
  },
  {
   "cell_type": "markdown",
   "metadata": {
    "id": "eycPASmMLfHa"
   },
   "source": [
    "### IV. Feature Engineering\n",
    "\n",
    "**Feature engineering** involves creating new features (input variables) or transforming existing ones to improve the performance of machine learning models. Feature engineering aims to enhance the model's ability to learn patterns and make accurate predictions from the data. It's often said that \"good features make good models.\"\n",
    "\n",
    "1. **Feature Selection:** Feature engineering can involve selecting the most relevant and informative features from the dataset. Removing irrelevant or redundant features not only simplifies the model but also reduces the risk of overfitting.\n",
    "\n",
    "2. **Creating New Features:** Sometimes, the existing features may not capture the underlying patterns effectively. In such cases, engineers create new features that provide additional information. For example:\n",
    "   \n",
    "   - **Polynomial Features:** Engineers may create new features by taking the square, cube, or other higher-order terms of existing numerical features. This can help capture nonlinear relationships.\n",
    "   \n",
    "   - **Interaction Features:** Interaction features are created by combining two or more existing features. For example, if you have features \"length\" and \"width,\" you can create an \"area\" feature by multiplying them.\n",
    "\n",
    "3. **Binning or Discretization:** Continuous numerical features can be divided into bins or categories. For instance, age values can be grouped into bins like \"child,\" \"adult,\" and \"senior.\"\n",
    "\n",
    "4. **Domain-Specific Feature Engineering:** Depending on the domain and problem, engineers may create domain-specific features. For example, in fraud detection, features related to transaction history and user behavior may be engineered to identify anomalies.\n",
    "\n",
    "Feature engineering is both a creative and iterative process. It requires a deep understanding of the data, domain knowledge, and experimentation to determine which features will enhance the model's predictive power."
   ]
  },
  {
   "cell_type": "code",
   "execution_count": null,
   "metadata": {
    "id": "UoXEV6wkLfHa"
   },
   "outputs": [],
   "source": [
    "threshold = 0.7  \n",
    "high_corr_var = set()\n",
    "\n",
    "for i in range(correlation_matrix.shape[0]):\n",
    "    for j in range(i):\n",
    "        if abs(correlation_matrix.iloc[i, j]) > threshold:  \n",
    "            colname = correlation_matrix.columns[i]\n",
    "            high_corr_var.add(colname)\n",
    "\n",
    "high_corr_var = list(high_corr_var)\n",
    "\n",
    "print(\"Features yang harus didrop:\")\n",
    "print(high_corr_var)\n",
    "\n",
    "X_train_transformed = X_train_transformed.drop(columns=high_corr_var, errors='ignore')\n",
    "X_val_transformed = X_val_transformed.drop(columns=high_corr_var, errors='ignore')\n",
    "\n",
    "X_test = X_test_transformed.drop(columns=[col for col in high_corr_var if col in merged_test_df.columns], errors='ignore')\n",
    "\n",
    "print(\"Features sisa X_train_transformed:\")\n",
    "print(X_train_transformed.columns)\n",
    "\n",
    "print(\"Features sisa X_val_transformed:\")\n",
    "print(X_val_transformed.columns)\n",
    "\n",
    "print(\"features sisa X_test:\")\n",
    "print(X_test.columns)"
   ]
  },
  {
   "cell_type": "code",
   "execution_count": 33,
   "metadata": {},
   "outputs": [],
   "source": [
    "# for col in X_train_transformed.columns:\n",
    "#     if col in ['proto', 'state', 'service']:\n",
    "#         print(f\"Kolom : {col}, Unique Values: {X_train_transformed[col].unique()}\")"
   ]
  },
  {
   "cell_type": "markdown",
   "metadata": {
    "id": "xw11_49xLfHb"
   },
   "source": [
    "## B. Data Preprocessing\n",
    "\n",
    "**Data preprocessing** is a broader step that encompasses both data cleaning and additional transformations to make the data suitable for machine learning algorithms. Its primary goals are:\n",
    "\n",
    "1. **Feature Scaling:** Ensure that numerical features have similar scales. Common techniques include Min-Max scaling (scaling to a specific range) or standardization (mean-centered, unit variance).\n",
    "\n",
    "2. **Encoding Categorical Variables:** Machine learning models typically work with numerical data, so categorical variables need to be encoded. This can be done using one-hot encoding, label encoding, or more advanced methods like target encoding.\n",
    "\n",
    "3. **Handling Imbalanced Classes:** If dealing with imbalanced classes in a binary classification task, apply techniques such as oversampling, undersampling, or using different evaluation metrics to address class imbalance.\n",
    "\n",
    "4. **Dimensionality Reduction:** Reduce the number of features using techniques like Principal Component Analysis (PCA) or feature selection to simplify the model and potentially improve its performance.\n",
    "\n",
    "5. **Normalization:** Normalize data to achieve a standard distribution. This is particularly important for algorithms that assume normally distributed data."
   ]
  },
  {
   "cell_type": "markdown",
   "metadata": {
    "id": "rVyVnA1hLfHd"
   },
   "source": [
    "### Notes on Preprocessing processes\n",
    "\n",
    "It is advised to create functions or classes that have the same/similar type of inputs and outputs, so you can add, remove, or swap the order of the processes easily. You can implement the functions or classes by yourself\n",
    "\n",
    "or\n",
    "\n",
    "use `sklearn` library. To create a new preprocessing component in `sklearn`, implement a corresponding class that includes:\n",
    "1. Inheritance to `BaseEstimator` and `TransformerMixin`\n",
    "2. The method `fit`\n",
    "3. The method `transform`"
   ]
  },
  {
   "cell_type": "code",
   "execution_count": 34,
   "metadata": {
    "id": "WbxHt-5eKz_I"
   },
   "outputs": [],
   "source": [
    "# Example\n",
    "\n",
    "# from sklearn.base import BaseEstimator, TransformerMixin\n",
    "\n",
    "# class FeatureEncoder(BaseEstimator, TransformerMixin):\n",
    "\n",
    "#     def fit(self, X, y=None):\n",
    "\n",
    "#         # Fit the encoder here\n",
    "\n",
    "#         return self\n",
    "\n",
    "#     def transform(self, X):\n",
    "#         X_encoded = X.copy()\n",
    "\n",
    "#         # Encode the categorical variables here\n",
    "\n",
    "#         return X_encoded"
   ]
  },
  {
   "cell_type": "markdown",
   "metadata": {
    "id": "WhCgOl4xLfHb"
   },
   "source": [
    "### I. Feature Scaling\n",
    "\n",
    "**Feature scaling** is a preprocessing technique used in machine learning to standardize the range of independent variables or features of data. The primary goal of feature scaling is to ensure that all features contribute equally to the training process and that machine learning algorithms can work effectively with the data.\n",
    "\n",
    "Here are the main reasons why feature scaling is important:\n",
    "\n",
    "1. **Algorithm Sensitivity:** Many machine learning algorithms are sensitive to the scale of input features. If the scales of features are significantly different, some algorithms may perform poorly or take much longer to converge.\n",
    "\n",
    "2. **Distance-Based Algorithms:** Algorithms that rely on distances or similarities between data points, such as k-nearest neighbors (KNN) and support vector machines (SVM), can be influenced by feature scales. Features with larger scales may dominate the distance calculations.\n",
    "\n",
    "3. **Regularization:** Regularization techniques, like L1 (Lasso) and L2 (Ridge) regularization, add penalty terms based on feature coefficients. Scaling ensures that all features are treated equally in the regularization process.\n",
    "\n",
    "Common methods for feature scaling include:\n",
    "\n",
    "1. **Min-Max Scaling (Normalization):** This method scales features to a specific range, typically [0, 1]. It's done using the following formula:\n",
    "\n",
    "   $$X' = \\frac{X - X_{min}}{X_{max} - X_{min}}$$\n",
    "\n",
    "   - Here, $X$ is the original feature value, $X_{min}$ is the minimum value of the feature, and $X_{max}$ is the maximum value of the feature.  \n",
    "<br />\n",
    "<br />\n",
    "2. **Standardization (Z-score Scaling):** This method scales features to have a mean (average) of 0 and a standard deviation of 1. It's done using the following formula:\n",
    "\n",
    "   $$X' = \\frac{X - \\mu}{\\sigma}$$\n",
    "\n",
    "   - $X$ is the original feature value, $\\mu$ is the mean of the feature, and $\\sigma$ is the standard deviation of the feature.  \n",
    "<br />\n",
    "<br />\n",
    "3. **Robust Scaling:** Robust scaling is a method that scales features to the interquartile range (IQR) and is less affected by outliers. It's calculated as:\n",
    "\n",
    "   $$X' = \\frac{X - Q1}{Q3 - Q1}$$\n",
    "\n",
    "   - $X$ is the original feature value, $Q1$ is the first quartile (25th percentile), and $Q3$ is the third quartile (75th percentile) of the feature.  \n",
    "<br />\n",
    "<br />\n",
    "4. **Log Transformation:** In cases where data is highly skewed or has a heavy-tailed distribution, taking the logarithm of the feature values can help stabilize the variance and improve scaling.\n",
    "\n",
    "The choice of scaling method depends on the characteristics of your data and the requirements of your machine learning algorithm. **Min-max scaling and standardization are the most commonly used techniques and work well for many datasets.**\n",
    "\n",
    "Scaling should be applied separately to each training and test set to prevent data leakage from the test set into the training set. Additionally, **some algorithms may not require feature scaling, particularly tree-based models.**"
   ]
  },
  {
   "cell_type": "code",
   "execution_count": 35,
   "metadata": {},
   "outputs": [],
   "source": [
    "class CustomScaler(BaseEstimator, TransformerMixin):\n",
    "    def __init__(self, high_outlier_columns=None, low_outlier_columns=None):\n",
    "        self.high_outlier_columns = high_outlier_columns or []\n",
    "        self.low_outlier_columns = low_outlier_columns or []\n",
    "        self.robust_scaler = RobustScaler()\n",
    "        self.standard_scaler = StandardScaler()\n",
    "        self.remainder_scaler = StandardScaler()\n",
    "    \n",
    "    def fit(self, X, y=None):\n",
    "        self.remainder_columns = X.drop(\n",
    "            columns=self.high_outlier_columns + self.low_outlier_columns\n",
    "        ).select_dtypes(include=['float64', 'int64']).columns\n",
    "\n",
    "        if self.high_outlier_columns:\n",
    "            self.robust_scaler.fit(X[self.high_outlier_columns])\n",
    "        if self.low_outlier_columns:\n",
    "            self.standard_scaler.fit(X[self.low_outlier_columns])\n",
    "        if len(self.remainder_columns) > 0:\n",
    "            self.remainder_scaler.fit(X[self.remainder_columns])\n",
    "        return self\n",
    "\n",
    "    def transform(self, X):\n",
    "        X_transformed = X.copy()\n",
    "        \n",
    "        if self.high_outlier_columns:\n",
    "            X_transformed[self.high_outlier_columns] = self.robust_scaler.transform(X[self.high_outlier_columns])\n",
    "        \n",
    "        if self.low_outlier_columns:\n",
    "            X_transformed[self.low_outlier_columns] = self.standard_scaler.transform(X[self.low_outlier_columns])\n",
    "        \n",
    "        if len(self.remainder_columns) > 0:\n",
    "            X_transformed[self.remainder_columns] = self.remainder_scaler.transform(X[self.remainder_columns])\n",
    "        \n",
    "        return X_transformed"
   ]
  },
  {
   "cell_type": "code",
   "execution_count": 36,
   "metadata": {},
   "outputs": [],
   "source": [
    "# print(X_train_transformed.dtypes)"
   ]
  },
  {
   "cell_type": "code",
   "execution_count": 37,
   "metadata": {},
   "outputs": [],
   "source": [
    "# high_outlier_columns = list(['sinpkt', 'sbytes'])\n",
    "# low_outlier_columns = list(['djit', 'dinpkt', 'tcprtt', 'ct_srv_src'])\n",
    "\n",
    "# for col in X_train_transformed.columns:\n",
    "#     if col in high_outlier_columns + low_outlier_columns: \n",
    "#         print(X_train_transformed[col].unique())\n",
    "\n",
    "\n",
    "# feature_pipeline = Pipeline([\n",
    "#     ('scaler', CustomScaler(\n",
    "#         high_outlier_columns=['sinpkt', 'sbytes'], \n",
    "#         low_outlier_columns=['djit', 'dinpkt', 'tcprtt', 'ct_srv_src']\n",
    "#     )),\n",
    "# ])\n",
    "\n",
    "# X_train_scaled = feature_pipeline.fit_transform(X_train_transformed)\n"
   ]
  },
  {
   "cell_type": "code",
   "execution_count": 38,
   "metadata": {},
   "outputs": [],
   "source": [
    "# X_train_scaled "
   ]
  },
  {
   "cell_type": "code",
   "execution_count": 39,
   "metadata": {
    "id": "COef9EbCLfHb"
   },
   "outputs": [],
   "source": [
    "# numerical_cols = X_train_transformed.select_dtypes(include=['float64', 'int64']).columns\n",
    "\n",
    "# def detect_outliers(df, columns):\n",
    "#     outlier_indices = []\n",
    "    \n",
    "#     for column in columns:\n",
    "#         Q1 = df[column].quantile(0.25)\n",
    "#         Q3 = df[column].quantile(0.75)\n",
    "#         IQR = Q3 - Q1\n",
    "        \n",
    "#         outlier_step = 1.5 * IQR\n",
    "#         lower_bound = Q1 - outlier_step\n",
    "#         upper_bound = Q3 + outlier_step\n",
    "        \n",
    "#         outliers = df[(df[column] < lower_bound) | (df[column] > upper_bound)][column]\n",
    "        \n",
    "#         print(f\"\\nOutliers in {column}:\")\n",
    "#         print(f\"Number of outliers: {len(outliers)}\")\n",
    "#         print(f\"Percentage of outliers: {(len(outliers)/len(df[column])*100):.2f}%\")\n",
    "        \n",
    "#         outlier_indices.extend(df[(df[column] < lower_bound) | (df[column] > upper_bound)].index)\n",
    "    \n",
    "#     return outlier_indices\n",
    "\n",
    "# detected_outliers = detect_outliers(X_train_transformed, numerical_cols)"
   ]
  },
  {
   "cell_type": "code",
   "execution_count": 40,
   "metadata": {},
   "outputs": [],
   "source": [
    "\n",
    "# high_outlier = ['sinpkt', 'sbytes']\n",
    "# low_outlier = ['djit', 'dinpkt', 'tcprtt', 'ct_srv_src']\n",
    "# robust_scaler = RobustScaler()\n",
    "# standard_scaler = StandardScaler()\n",
    "\n",
    "# preprocessor = ColumnTransformer(\n",
    "#     transformers=[\n",
    "#         ('robust', RobustScaler(), high_outlier),   \n",
    "#         ('standard', StandardScaler(), low_outlier),   \n",
    "#     ],\n",
    "#     remainder=StandardScaler()\n",
    "# )"
   ]
  },
  {
   "cell_type": "code",
   "execution_count": 41,
   "metadata": {},
   "outputs": [],
   "source": [
    "# for col in X_train_transformed.columns:\n",
    "#     if col in ['proto', 'state', 'service']:\n",
    "#         print(f\"Kolom : {col}, Unique Values: {X_train_transformed[col].unique()}\")"
   ]
  },
  {
   "cell_type": "markdown",
   "metadata": {
    "id": "f_Lh-4JwLfHc"
   },
   "source": [
    "### II. Feature Encoding\n",
    "\n",
    "**Feature encoding**, also known as **categorical encoding**, is the process of converting categorical data (non-numeric data) into a numerical format so that it can be used as input for machine learning algorithms. Most machine learning models require numerical data for training and prediction, so feature encoding is a critical step in data preprocessing.\n",
    "\n",
    "Categorical data can take various forms, including:\n",
    "\n",
    "1. **Nominal Data:** Categories with no intrinsic order, like colors or country names.  \n",
    "\n",
    "2. **Ordinal Data:** Categories with a meaningful order but not necessarily equidistant, like education levels (e.g., \"high school,\" \"bachelor's,\" \"master's\").\n",
    "\n",
    "There are several common methods for encoding categorical data:\n",
    "\n",
    "1. **Label Encoding:**\n",
    "\n",
    "   - Label encoding assigns a unique integer to each category in a feature.\n",
    "   - It's suitable for ordinal data where there's a clear order among categories.\n",
    "   - For example, if you have an \"education\" feature with values \"high school,\" \"bachelor's,\" and \"master's,\" you can encode them as 0, 1, and 2, respectively.\n",
    "<br />\n",
    "<br />\n",
    "2. **One-Hot Encoding:**\n",
    "\n",
    "   - One-hot encoding creates a binary (0 or 1) column for each category in a nominal feature.\n",
    "   - It's suitable for nominal data where there's no inherent order among categories.\n",
    "   - Each category becomes a new feature, and the presence (1) or absence (0) of a category is indicated for each row.\n",
    "<br />\n",
    "<br />\n",
    "3. **Target Encoding (Mean Encoding):**\n",
    "\n",
    "   - Target encoding replaces each category with the mean of the target variable for that category.\n",
    "   - It's often used for classification problems."
   ]
  },
  {
   "cell_type": "code",
   "execution_count": 42,
   "metadata": {
    "id": "psElSUugLfHc"
   },
   "outputs": [],
   "source": [
    "class FeatureEncoder(BaseEstimator, TransformerMixin):\n",
    "    def __init__(self, one_hot_columns=None):\n",
    "        self.one_hot_columns = one_hot_columns or []\n",
    "        self.encoder = OneHotEncoder(sparse_output=False, handle_unknown='ignore')\n",
    "        self.feature_names_out_ = None\n",
    "\n",
    "    def fit(self, X, y=None):\n",
    "        if self.one_hot_columns:\n",
    "            self.encoder.fit(X[self.one_hot_columns])\n",
    "            self.feature_names_out_ = self.encoder.get_feature_names_out(self.one_hot_columns)\n",
    "        return self\n",
    "\n",
    "    def transform(self, X):\n",
    "        X_transformed = X.copy()\n",
    "        \n",
    "        if self.one_hot_columns:\n",
    "            encoded = self.encoder.transform(X[self.one_hot_columns])\n",
    "            encoded_df = pd.DataFrame(encoded, columns=self.feature_names_out_, index=X.index)\n",
    "            \n",
    "            X_transformed = pd.concat([X_transformed.drop(columns=self.one_hot_columns), encoded_df], axis=1)\n",
    "        \n",
    "        return X_transformed"
   ]
  },
  {
   "cell_type": "code",
   "execution_count": 43,
   "metadata": {},
   "outputs": [],
   "source": [
    "# feature_pipeline = Pipeline([\n",
    "#     ('encoder', FeatureEncoder(one_hot_columns=['proto', 'state', 'service'])),  \n",
    "#     ('scaler', CustomScaler(\n",
    "#         high_outlier_columns=['sinpkt', 'sbytes'], \n",
    "#         low_outlier_columns=['djit', 'dinpkt', 'tcprtt', 'ct_srv_src']\n",
    "#     )),\n",
    "# ])\n",
    "\n",
    "\n",
    "# X_transformed = feature_pipeline.fit_transform(X_train_transformed)"
   ]
  },
  {
   "cell_type": "markdown",
   "metadata": {
    "id": "jKQO9wtB8Pc0"
   },
   "source": [
    "### III. Handling Imbalanced Dataset\n",
    "\n",
    "**Handling imbalanced datasets** is important because imbalanced data can lead to several issues that negatively impact the performance and reliability of machine learning models. Here are some key reasons:\n",
    "\n",
    "1. **Biased Model Performance**:\n",
    "\n",
    " - Models trained on imbalanced data tend to be biased towards the majority class, leading to poor performance on the minority class. This can result in misleading accuracy metrics.\n",
    "\n",
    "2. **Misleading Accuracy**:\n",
    "\n",
    " - High overall accuracy can be misleading in imbalanced datasets. For example, if 95% of the data belongs to one class, a model that always predicts the majority class will have 95% accuracy but will fail to identify the minority class.\n",
    "\n",
    "3. **Poor Generalization**:\n",
    "\n",
    " - Models trained on imbalanced data may not generalize well to new, unseen data, especially if the minority class is underrepresented.\n",
    "\n",
    "\n",
    "Some methods to handle imbalanced datasets:\n",
    "1. **Resampling Methods**:\n",
    "\n",
    " - Oversampling: Increase the number of instances in the minority class by duplicating or generating synthetic samples (e.g., SMOTE).\n",
    " - Undersampling: Reduce the number of instances in the majority class to balance the dataset.\n",
    "\n",
    "2. **Evaluation Metrics**:\n",
    "\n",
    " - Use appropriate evaluation metrics such as precision, recall, F1-score, ROC-AUC, and confusion matrix instead of accuracy to better assess model performance on imbalanced data.\n",
    "\n",
    "3. **Algorithmic Approaches**:\n",
    "\n",
    " - Use algorithms that are designed to handle imbalanced data, such as decision trees, random forests, or ensemble methods.\n",
    " - Adjust class weights in algorithms to give more importance to the minority class."
   ]
  },
  {
   "cell_type": "code",
   "execution_count": 44,
   "metadata": {
    "id": "u2BQd2XJ9W1i"
   },
   "outputs": [],
   "source": [
    "\n",
    "class UnderSampler(BaseEstimator, TransformerMixin):\n",
    "    def __init__(self, sampling_strategy='auto', random_state=None):\n",
    "        self.sampling_strategy = sampling_strategy\n",
    "        self.random_state = random_state\n",
    "        self.sampler = RandomUnderSampler(sampling_strategy=self.sampling_strategy, random_state=self.random_state)\n",
    "\n",
    "    def fit(self, X, y):\n",
    "        self.sampler.fit_resample(X, y)\n",
    "        return self\n",
    "\n",
    "    def transform(self, X, y=None):\n",
    "        if y is None:\n",
    "            raise ValueError(\"`y` kok gak masuk , woilah cik.\")\n",
    "        X_resampled, y_resampled = self.sampler.fit_resample(X, y)\n",
    "        return X_resampled, y_resampled"
   ]
  },
  {
   "cell_type": "code",
   "execution_count": 45,
   "metadata": {},
   "outputs": [],
   "source": [
    "# class_counts = Counter(y_train)\n",
    "# min_class_count = min(class_counts.values())\n",
    "\n",
    "# sampling_strategy = {k: int(min_class_count * 1) for k in class_counts.keys()}\n",
    "\n",
    "# print(\"Sampling strategy:\", sampling_strategy)\n",
    "\n",
    "# feature_pipeline = Pipeline([\n",
    "#     ('encoder', FeatureEncoder(one_hot_columns=['proto', 'state', 'service'])),  # Encoding\n",
    "#     ('scaler', CustomScaler(\n",
    "#         high_outlier_columns=['sinpkt', 'sbytes'], \n",
    "#         low_outlier_columns=['djit', 'dinpkt', 'tcprtt', 'ct_srv_src']\n",
    "#     )),  \n",
    "#     ('undersampler', RandomUnderSampler(sampling_strategy=sampling_strategy, random_state=42))  # Undersampling\n",
    "# ])\n",
    "\n",
    "# X_resampled, y_resampled = feature_pipeline.fit_resample(X_train_transformed, y_train)\n",
    "\n",
    "# print(\"Distribusi sebelum resampling:\")\n",
    "# print(Counter(y_train))\n",
    "\n",
    "# print(\"\\nDistribusi setelah resampling:\")\n",
    "# print(Counter(y_resampled))"
   ]
  },
  {
   "cell_type": "markdown",
   "metadata": {
    "id": "fTMSyUzf_-HQ"
   },
   "source": [
    "### IV. Data Normalization\n",
    "\n",
    "Data normalization is used to achieve a standard distribution. Without normalization, models or processes that rely on the assumption of normality may not work correctly. Normalization helps reduce the magnitude effect and ensures numerical stability during optimization."
   ]
  },
  {
   "cell_type": "code",
   "execution_count": 46,
   "metadata": {
    "id": "HLOWHftjF1JU"
   },
   "outputs": [],
   "source": [
    "class DataNormalizer(BaseEstimator, TransformerMixin):\n",
    "    def __init__(self, method='minmax'):\n",
    "        self.method = method\n",
    "        self.scaler = None\n",
    "\n",
    "    def fit(self, X, y=None):\n",
    "        if self.method == 'minmax':\n",
    "            self.scaler = MinMaxScaler()\n",
    "        elif self.method == 'zscore':\n",
    "            self.scaler = StandardScaler()\n",
    "        elif self.method == 'robust':\n",
    "            self.scaler = RobustScaler()\n",
    "        else:\n",
    "            raise ValueError(f\"Method '{self.method}' tidak valid.\")\n",
    "\n",
    "        self.scaler.fit(X)\n",
    "        return self\n",
    "\n",
    "    def transform(self, X):\n",
    "        if self.scaler is None:\n",
    "            raise ValueError(\"Scaler belum dilatih. Panggil fit() terlebih dahulu.\")\n",
    "        return self.scaler.transform(X)"
   ]
  },
  {
   "cell_type": "code",
   "execution_count": 47,
   "metadata": {},
   "outputs": [],
   "source": [
    "# feature_pipeline = Pipeline([\n",
    "#     ('encoder', FeatureEncoder(one_hot_columns=['proto', 'state', 'service'])),  # Encoding\n",
    "#     ('scaler', CustomScaler(\n",
    "#         high_outlier_columns=['sinpkt', 'sbytes'], \n",
    "#         low_outlier_columns=['djit', 'dinpkt', 'tcprtt', 'ct_srv_src']\n",
    "#     )),  # Scaling\n",
    "#     ('normalizer', DataNormalizer(method='zscore')),  # Normalisasi menggunakan Z-score\n",
    "#     ('undersampler', RandomUnderSampler(sampling_strategy=sampling_strategy, random_state=42))  # Undersampling\n",
    "# ])\n",
    "\n",
    "# X_resampled, y_resampled = feature_pipeline.fit_resample(X_train_transformed, y_train)\n",
    "\n",
    "# print(X_resampled)"
   ]
  },
  {
   "cell_type": "markdown",
   "metadata": {
    "id": "MSZPZSntF3Kb"
   },
   "source": [
    "### V. Dimensionality Reduction\n",
    "\n",
    "Dimensionality reduction is a technique used in data preprocessing to reduce the number of input features (dimensions) in a dataset while retaining as much important information as possible. It is essential when dealing with high-dimensional data, where too many features can cause problems like increased computational costs, overfitting, and difficulty in visualization. Reducing dimensions simplifies the data, making it easier to analyze and improving the performance of machine learning models.\n",
    "\n",
    "One of the main approaches to dimensionality reduction is feature extraction. Feature extraction creates new, smaller sets of features that capture the essence of the original data. Common techniques include:\n",
    "\n",
    "1. **Principal Component Analysis (PCA)**: Converts correlated features into a smaller number of uncorrelated \"principal components.\"\n",
    "2. **t-SNE (t-Distributed Stochastic Neighbor Embedding)**: A visualization-focused method to project high-dimensional data into 2D or 3D spaces.\n",
    "3. **Autoencoders**: Neural networks that learn compressed representations of the data."
   ]
  },
  {
   "cell_type": "code",
   "execution_count": 48,
   "metadata": {
    "id": "5rksSMAWICY_"
   },
   "outputs": [],
   "source": [
    "class PCAReducer(BaseEstimator, TransformerMixin):\n",
    "    def __init__(self, n_components=None):\n",
    "        self.n_components = n_components\n",
    "        self.pca = None\n",
    "\n",
    "    def fit(self, X, y=None):\n",
    "        self.pca = PCA(n_components=self.n_components)\n",
    "        self.pca.fit(X)\n",
    "        return self\n",
    "\n",
    "    def transform(self, X):\n",
    "        if self.pca is None:\n",
    "            raise ValueError(\"PCA belum dilatih. Panggil fit() dulu.\")\n",
    "        return self.pca.transform(X)\n",
    "\n",
    "    def explained_variance_ratio(self):\n",
    "        if self.pca is None:\n",
    "            raise ValueError(\"PCA belum dilati.\")\n",
    "        return self.pca.explained_variance_ratio_"
   ]
  },
  {
   "cell_type": "markdown",
   "metadata": {
    "id": "-ctVzt5DLfHd"
   },
   "source": [
    "# 3. Compile Preprocessing Pipeline\n",
    "\n",
    "All of the preprocessing classes or functions defined earlier will be compiled in this step."
   ]
  },
  {
   "cell_type": "markdown",
   "metadata": {
    "id": "S_ZlncSVjJG6"
   },
   "source": [
    "If you use sklearn to create preprocessing classes, you can list your preprocessing classes in the Pipeline object sequentially, and then fit and transform your data."
   ]
  },
  {
   "cell_type": "code",
   "execution_count": null,
   "metadata": {
    "id": "jHraoW_7LfHd"
   },
   "outputs": [],
   "source": [
    "class_counts = Counter(y_train_transformed)\n",
    "min_class_count = min(class_counts.values())\n",
    "\n",
    "sampling_strategy = {k: int(min_class_count * 1) for k in class_counts.keys()}\n",
    "\n",
    "print(\"Sampling strategy:\", sampling_strategy)\n",
    "\n",
    "feature_pipeline = Pipeline([\n",
    "    ('encoder', FeatureEncoder(one_hot_columns=['proto', 'state', 'service'])),\n",
    "    ('scaler', CustomScaler(\n",
    "        high_outlier_columns=['sinpkt', 'sbytes'], \n",
    "        low_outlier_columns=['djit', 'dinpkt', 'tcprtt', 'ct_srv_src']\n",
    "    )), \n",
    "    ('normalizer', DataNormalizer(method='zscore')), \n",
    "    ('pca', PCAReducer(n_components=15)), \n",
    "    ('undersampler', RandomUnderSampler(sampling_strategy=sampling_strategy, random_state=42))  \n",
    "])\n",
    "\n",
    "\n",
    "valtest_pipeline = Pipeline([\n",
    "    ('encoder', FeatureEncoder(one_hot_columns=['proto', 'state', 'service'])),  \n",
    "    ('scaler', CustomScaler(\n",
    "        high_outlier_columns=['sinpkt', 'sbytes'], \n",
    "        low_outlier_columns=['djit', 'dinpkt', 'tcprtt', 'ct_srv_src']\n",
    "    )), \n",
    "    ('normalizer', DataNormalizer(method='zscore')),  \n",
    "    ('pca', PCAReducer(n_components=15)), \n",
    "])\n",
    "\n",
    "X_train_resampled, y_train_resampled = feature_pipeline.fit_resample(X_train_transformed, y_train_transformed)\n",
    "\n",
    "X_val_transformed = valtest_pipeline.fit_transform(X_val_transformed)\n",
    "X_test_transformed = valtest_pipeline.fit_transform(X_test_transformed)\n",
    "\n",
    "print(\"Dimensi X_train setelah resampling:\", X_train_resampled.shape)\n",
    "print(\"Dimensi y_train setelah resampling:\", y_train_resampled.shape)\n",
    "print(\"Dimensi X_val setelah transformasi:\", X_val_transformed.shape)\n",
    "print(\"Dimensi X_test setelah transformasi:\", X_test_transformed.shape)"
   ]
  },
  {
   "cell_type": "code",
   "execution_count": 50,
   "metadata": {},
   "outputs": [],
   "source": [
    "# from sklearn.decomposition import PCA\n",
    "# import matplotlib.pyplot as plt\n",
    "\n",
    "# pca = PCA()\n",
    "# pca.fit(X_train_resampled)\n",
    "\n",
    "# cumulative_variance = pca.explained_variance_ratio_.cumsum()\n",
    "\n",
    "# plt.figure(figsize=(8, 5))\n",
    "# plt.plot(range(1, len(cumulative_variance) + 1), cumulative_variance, marker='o', linestyle='--')\n",
    "# plt.axhline(y=0.80, color='r', linestyle='--')\n",
    "# plt.legend(loc='best')\n",
    "# plt.grid()\n",
    "# plt.show()"
   ]
  },
  {
   "cell_type": "markdown",
   "metadata": {
    "id": "SXoCqMztjhr-"
   },
   "source": [
    "or create your own here"
   ]
  },
  {
   "cell_type": "code",
   "execution_count": 51,
   "metadata": {
    "id": "7OoZ3oXEj2CW"
   },
   "outputs": [],
   "source": [
    "# Write your code here"
   ]
  },
  {
   "cell_type": "markdown",
   "metadata": {
    "id": "9A3adbZXLfHe"
   },
   "source": [
    "# 4. Modeling and Validation\n",
    "\n",
    "Modelling is the process of building your own machine learning models to solve specific problems, or in this assignment context, predicting the target feature `attack_cat`. Validation is the process of evaluating your trained model using the validation set or cross-validation method and providing some metrics that can help you decide what to do in the next iteration of development."
   ]
  },
  {
   "cell_type": "markdown",
   "metadata": {
    "id": "ZnhMNbBILfHf"
   },
   "source": [
    "## A. KNN"
   ]
  },
  {
   "cell_type": "code",
   "execution_count": 86,
   "metadata": {},
   "outputs": [],
   "source": [
    "from KNN import KNNScratch"
   ]
  },
  {
   "cell_type": "code",
   "execution_count": null,
   "metadata": {},
   "outputs": [],
   "source": [
    "# X_test = merged_test_df_transformed = merged_test_df_transformed.astype(float)\n",
    "\n",
    "k_neighbors = 3 \n",
    "knn_model = KNNScratch(k_neighbours=k_neighbors, distance_type='euclidean')\n",
    "knn_model.fit(X_train_resampled, y_train_resampled)\n",
    "\n",
    "y_pred_scratch = knn_model.predict(X_val_transformed)"
   ]
  },
  {
   "cell_type": "code",
   "execution_count": 70,
   "metadata": {},
   "outputs": [],
   "source": [
    "knn_lib = KNeighborsClassifier(n_neighbors=3, metric='euclidean')\n",
    "knn_lib.fit(X_train_resampled, y_train_resampled)\n",
    "y_pred_lib = knn_lib.predict(X_val_transformed)"
   ]
  },
  {
   "cell_type": "code",
   "execution_count": null,
   "metadata": {},
   "outputs": [],
   "source": [
    "f1_scratch = f1_score(y_val_transformed, y_pred_scratch, average='macro')\n",
    "f1_lib = f1_score(y_val_transformed, y_pred_lib, average='macro')\n",
    "\n",
    "print(X_val_transformed.shape)\n",
    "print(y_val_transformed.shape)\n",
    "print(y_pred_scratch.shape)\n",
    "\n",
    "print(\"F1-Score Macro Average (Scratch):\", f1_scratch)\n",
    "print(\"F1-Score Macro Average (Library):\", f1_lib)"
   ]
  },
  {
   "cell_type": "markdown",
   "metadata": {
    "id": "nW0bMzkDLfHf"
   },
   "source": [
    "## B. Naive Bayes"
   ]
  },
  {
   "cell_type": "code",
   "execution_count": null,
   "metadata": {
    "id": "C_XwsN_-LfHg"
   },
   "outputs": [],
   "source": [
    "# Type your code here\n",
    "print(X_val_transformed.shape)\n",
    "print(X_train_transformed.shape)"
   ]
  },
  {
   "cell_type": "markdown",
   "metadata": {
    "id": "TLDtIkPdLfHg"
   },
   "source": [
    "## C. ID3"
   ]
  },
  {
   "cell_type": "code",
   "execution_count": 59,
   "metadata": {
    "id": "gZ6_x1LKLfHh"
   },
   "outputs": [],
   "source": [
    "# Type your code here"
   ]
  },
  {
   "cell_type": "markdown",
   "metadata": {
    "id": "LoH2u6fOLfHh"
   },
   "source": [
    "## D. Improvements (Optional)\n",
    "\n",
    "- **Visualize the model evaluation result**\n",
    "\n",
    "This will help you to understand the details more clearly about your model's performance. From the visualization, you can see clearly if your model is leaning towards a class than the others. (Hint: confusion matrix, ROC-AUC curve, etc.)\n",
    "\n",
    "- **Explore the hyperparameters of your models**\n",
    "\n",
    "Each models have their own hyperparameters. And each of the hyperparameter have different effects on the model behaviour. You can optimize the model performance by finding the good set of hyperparameters through a process called **hyperparameter tuning**. (Hint: Grid search, random search, bayesian optimization)\n",
    "\n",
    "- **Cross-validation**\n",
    "\n",
    "Cross-validation is a critical technique in machine learning and data science for evaluating and validating the performance of predictive models. It provides a more **robust** and **reliable** evaluation method compared to a hold-out (single train-test set) validation. Though, it requires more time and computing power because of how cross-validation works. (Hint: k-fold cross-validation, stratified k-fold cross-validation, etc.)"
   ]
  },
  {
   "cell_type": "code",
   "execution_count": 60,
   "metadata": {
    "id": "pg-A54yELfHh"
   },
   "outputs": [],
   "source": [
    "# Type your code here"
   ]
  },
  {
   "cell_type": "markdown",
   "metadata": {
    "id": "Li4l53DjLfHh"
   },
   "source": [
    "## E. Submission\n",
    "To predict the test set target feature and submit the results to the kaggle competition platform, do the following:\n",
    "1. Create a new pipeline instance identical to the first in Data Preprocessing\n",
    "2. With the pipeline, apply `fit_transform` to the original training set before splitting, then only apply `transform` to the test set.\n",
    "3. Retrain the model on the preprocessed training set\n",
    "4. Predict the test set\n",
    "5. Make sure the submission contains the `id` and `attack_cat` column."
   ]
  },
  {
   "cell_type": "code",
   "execution_count": 61,
   "metadata": {
    "id": "LeqnfWc-LfHi"
   },
   "outputs": [],
   "source": [
    "# Type your code here"
   ]
  },
  {
   "cell_type": "markdown",
   "metadata": {
    "id": "R-jXvKOpLfHi"
   },
   "source": [
    "# 6. Error Analysis\n",
    "\n",
    "Based on all the process you have done until the modeling and evaluation step, write an analysis to support each steps you have taken to solve this problem. Write the analysis using the markdown block. Some questions that may help you in writing the analysis:\n",
    "\n",
    "- Does my model perform better in predicting one class than the other? If so, why is that?\n",
    "- To each models I have tried, which performs the best and what could be the reason?\n",
    "- Is it better for me to impute or drop the missing data? Why?\n",
    "- Does feature scaling help improve my model performance?\n",
    "- etc..."
   ]
  },
  {
   "cell_type": "markdown",
   "metadata": {
    "id": "tWL3nEAELfHj"
   },
   "source": [
    "`Provide your analysis here`"
   ]
  }
 ],
 "metadata": {
  "colab": {
   "provenance": [],
   "toc_visible": true
  },
  "kernelspec": {
   "display_name": ".venv",
   "language": "python",
   "name": "python3"
  },
  "language_info": {
   "codemirror_mode": {
    "name": "ipython",
    "version": 3
   },
   "file_extension": ".py",
   "mimetype": "text/x-python",
   "name": "python",
   "nbconvert_exporter": "python",
   "pygments_lexer": "ipython3",
   "version": "3.12.6"
  }
 },
 "nbformat": 4,
 "nbformat_minor": 0
}
